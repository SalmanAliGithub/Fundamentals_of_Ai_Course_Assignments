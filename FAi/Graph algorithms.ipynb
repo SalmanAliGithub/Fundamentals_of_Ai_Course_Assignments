{
 "cells": [
  {
   "cell_type": "markdown",
   "metadata": {},
   "source": [
    "# DFS(Depth First Traversing)"
   ]
  },
  {
   "cell_type": "code",
   "execution_count": 91,
   "metadata": {},
   "outputs": [
    {
     "name": "stdout",
     "output_type": "stream",
     "text": [
      "a d g f e c b \n",
      "Time take: 7.508400085498579e-05 sec\n"
     ]
    }
   ],
   "source": [
    "\n",
    "import timeit\n",
    "\n",
    "graph = {\n",
    "    \"a\" : [\"b\", \"d\"],\n",
    "    \"b\" : [],\n",
    "    \"c\" : [],\n",
    "    \"d\" : [\"e\", \"g\"],\n",
    "    \"e\" : [\"c\"],\n",
    "    \"f\" : [],\n",
    "    \"g\" : [\"f\"]\n",
    "}\n",
    "\n",
    "def dfs(graph, node):\n",
    "    stack = []\n",
    "    stack.append(node)\n",
    "    while stack:\n",
    "        node = stack.pop(-1)\n",
    "        print(node, end=\" \")\n",
    "        \n",
    "        for i in graph[node]:\n",
    "            stack.append(i)\n",
    "\n",
    "start_time = timeit.default_timer()\n",
    "dfs(graph, \"a\")\n",
    "end_time = timeit.default_timer()\n",
    "\n",
    "time_taken = end_time - start_time\n",
    "print(\"\")\n",
    "print(f\"Time take: {time_taken} sec\")"
   ]
  },
  {
   "cell_type": "code",
   "execution_count": 37,
   "metadata": {},
   "outputs": [
    {
     "name": "stdout",
     "output_type": "stream",
     "text": [
      "a b d e c g f \n",
      "Time taken: 0.0005078330000287679\n"
     ]
    }
   ],
   "source": [
    "import timeit\n",
    "\n",
    "graph = {\n",
    "    \"a\" : [\"b\", \"d\"],\n",
    "    \"b\" : [],\n",
    "    \"c\" : [],\n",
    "    \"d\" : [\"e\", \"g\"],\n",
    "    \"e\" : [\"c\"],\n",
    "    \"f\" : [],\n",
    "    \"g\" : [\"f\"]\n",
    "}\n",
    "\n",
    "def dfs_recursive(graph, node, visited=None):\n",
    "    if visited is None:\n",
    "        visited = set()\n",
    "\n",
    "    visited.add(node)\n",
    "    print(node, end=\" \")\n",
    "\n",
    "    for neighbor in graph[node]:\n",
    "        if neighbor not in visited:\n",
    "            dfs_recursive(graph, neighbor, visited)\n",
    "\n",
    "start_time = timeit.default_timer()  # Call default_timer to start the timer\n",
    "dfs_recursive(graph, \"a\")\n",
    "end_time = timeit.default_timer()  # Call default_timer to stop the timer\n",
    "\n",
    "time_taken = end_time - start_time  # Calculate the elapsed time\n",
    "print(\"\\nTime taken:\", time_taken)\n"
   ]
  },
  {
   "cell_type": "code",
   "execution_count": 55,
   "metadata": {},
   "outputs": [
    {
     "name": "stdout",
     "output_type": "stream",
     "text": [
      "a b d e c f \n",
      "Time taken: 0.00011500000073283445\n"
     ]
    }
   ],
   "source": [
    "import timeit\n",
    "\n",
    "graph = {\n",
    "    \"a\" : [\"b\", \"c\"],\n",
    "    \"b\" : [\"d\", \"e\"],\n",
    "    \"c\" : [\"a\", \"e\"],\n",
    "    \"d\" : [\"b\", \"e\", \"f\"],\n",
    "    \"e\" : [\"b\", \"c\", \"d\", \"f\"],\n",
    "    \"f\" : [\"d\", \"f\"]\n",
    "}\n",
    "\n",
    "def dfs_recursive(graph, node, visited=None):\n",
    "    if visited is None:\n",
    "        visited = set()\n",
    "\n",
    "    visited.add(node)\n",
    "    print(node, end=\" \")\n",
    "\n",
    "    for neighbor in graph[node]:\n",
    "        if neighbor not in visited:\n",
    "            dfs_recursive(graph, neighbor, visited)\n",
    "\n",
    "start_time = timeit.default_timer()  # Call default_timer to start the timer\n",
    "dfs_recursive(graph, \"a\")\n",
    "end_time = timeit.default_timer()  # Call default_timer to stop the timer\n",
    "\n",
    "time_taken = end_time - start_time  # Calculate the elapsed time\n",
    "print(\"\\nTime taken:\", time_taken)\n"
   ]
  },
  {
   "cell_type": "markdown",
   "metadata": {},
   "source": [
    "# BFS (Breadth first)"
   ]
  },
  {
   "cell_type": "code",
   "execution_count": 51,
   "metadata": {},
   "outputs": [
    {
     "name": "stdout",
     "output_type": "stream",
     "text": [
      "a b d e g c f \n",
      "Time take: 0.0006714999999530846 sec\n"
     ]
    }
   ],
   "source": [
    "\n",
    "import timeit\n",
    "\n",
    "graph = {\n",
    "    \"a\" : [\"b\", \"d\"],\n",
    "    \"b\" : [],\n",
    "    \"c\" : [],\n",
    "    \"d\" : [\"e\", \"g\"],\n",
    "    \"e\" : [\"c\"],\n",
    "    \"f\" : [],\n",
    "    \"g\" : [\"f\"]\n",
    "}\n",
    "\n",
    "def dfs(graph, node):\n",
    "    queue = []\n",
    "    queue.append(node)\n",
    "    while queue:\n",
    "        node = queue.pop(0)\n",
    "        print(node, end=\" \")\n",
    "        \n",
    "        for i in graph[node]:\n",
    "            queue.append(i)\n",
    "\n",
    "start_time = timeit.default_timer()\n",
    "dfs(graph, \"a\")\n",
    "end_time = timeit.default_timer()\n",
    "\n",
    "time_taken = end_time - start_time\n",
    "print(\"\")\n",
    "print(f\"Time take: {time_taken} sec\")"
   ]
  },
  {
   "cell_type": "markdown",
   "metadata": {},
   "source": [
    "## DFS for assignment"
   ]
  },
  {
   "cell_type": "code",
   "execution_count": 147,
   "metadata": {},
   "outputs": [
    {
     "name": "stdout",
     "output_type": "stream",
     "text": [
      "a d g f e c b \n",
      "Time take: 0.0014984999943408184 sec\n"
     ]
    }
   ],
   "source": [
    "\n",
    "import timeit\n",
    "\n",
    "graph = {\n",
    "    \"a\" : [\"b\", \"d\"],\n",
    "    \"b\" : [\"a\", \"d\", \"e\"],\n",
    "    \"c\" : [\"e\"],\n",
    "    \"d\" : [\"a\", \"b\",\"e\", \"g\"],\n",
    "    \"e\" : [\"b\", \"c\"],\n",
    "    \"f\" : [\"g\"],\n",
    "    \"g\" : [\"f\"]\n",
    "}\n",
    "\n",
    "def dfs(graph, node):\n",
    "    stack = []\n",
    "    stack.append(node)\n",
    "    visited = set()\n",
    "    while stack:\n",
    "        node = stack.pop(-1)\n",
    "        print(node, end=\" \")\n",
    "        visited.add(node)\n",
    "        for i in graph[node]:\n",
    "            if i not in visited and (i not in stack):\n",
    "                stack.append(i)\n",
    "\n",
    "start_time = timeit.default_timer()\n",
    "dfs(graph, \"a\")\n",
    "end_time = timeit.default_timer()\n",
    "\n",
    "time_taken = end_time - start_time\n",
    "print(\"\")\n",
    "print(f\"Time take: {time_taken} sec\")"
   ]
  },
  {
   "cell_type": "code",
   "execution_count": 97,
   "metadata": {},
   "outputs": [
    {
     "name": "stdout",
     "output_type": "stream",
     "text": [
      "['A', 'B', 'E']\n"
     ]
    }
   ],
   "source": [
    "graph = {\n",
    "    'A': ['B', 'C'],\n",
    "    'B': ['A', 'D', 'E'],\n",
    "    'C': ['A', 'F'],\n",
    "    'D': ['B'],\n",
    "    'E': ['B', 'F'],\n",
    "    'F': ['C', 'E']\n",
    "}\n",
    "\n",
    "\n",
    "def dfs(graph, source, destination):\n",
    "    visited = set()\n",
    "    stack = [(source, [source])]\n",
    "\n",
    "    while stack:\n",
    "        current_node, path = stack.pop()\n",
    "        if current_node == destination:\n",
    "            return path\n",
    "        if current_node not in visited:\n",
    "            visited.add(current_node)\n",
    "            for neighbor in reversed(graph.get(current_node, [])):\n",
    "                if neighbor not in visited:\n",
    "                    stack.append((neighbor, path + [neighbor]))\n",
    "    return None\n",
    "\n",
    "pat = dfs(graph, \"A\", \"E\")\n",
    "print(pat)"
   ]
  }
 ],
 "metadata": {
  "kernelspec": {
   "display_name": "Python 3",
   "language": "python",
   "name": "python3"
  },
  "language_info": {
   "codemirror_mode": {
    "name": "ipython",
    "version": 3
   },
   "file_extension": ".py",
   "mimetype": "text/x-python",
   "name": "python",
   "nbconvert_exporter": "python",
   "pygments_lexer": "ipython3",
   "version": "3.9.6"
  }
 },
 "nbformat": 4,
 "nbformat_minor": 2
}
