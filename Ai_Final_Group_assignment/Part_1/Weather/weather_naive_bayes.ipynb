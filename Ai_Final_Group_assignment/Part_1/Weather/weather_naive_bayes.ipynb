{
 "cells": [
  {
   "cell_type": "code",
   "execution_count": 19,
   "metadata": {},
   "outputs": [],
   "source": [
    "import math\n",
    "\n",
    "import random\n",
    "\n",
    "from collections import *\n",
    "\n",
    "import time\n",
    "\n",
    "import matplotlib.pyplot as plt\n",
    "\n",
    "%matplotlib inline"
   ]
  },
  {
   "cell_type": "code",
   "execution_count": 20,
   "metadata": {},
   "outputs": [],
   "source": [
    "def load_data(path):\n",
    "    with open(path) as f:\n",
    "        lines = f.readlines()\n",
    "    \n",
    "    data_x = []\n",
    "    data_y = []\n",
    "    \n",
    "    for line in lines:\n",
    "        line = list(map(str.strip, line.split(',')))    \n",
    "        \n",
    "        data_x.append(line[:5])\n",
    "        data_y.append(line[5])\n",
    "        \n",
    "    return data_x, data_y"
   ]
  },
  {
   "cell_type": "code",
   "execution_count": 21,
   "metadata": {},
   "outputs": [
    {
     "data": {
      "text/plain": [
       "(107, 107)"
      ]
     },
     "execution_count": 21,
     "metadata": {},
     "output_type": "execute_result"
    }
   ],
   "source": [
    "train_x, train_y = load_data('dataset/train.csv')\n",
    "validate_x, validate_y = load_data('dataset/validate.csv')\n",
    "test_x, test_y = load_data('dataset/train.csv')\n",
    "\n",
    "len(train_x), len(train_y)"
   ]
  },
  {
   "cell_type": "code",
   "execution_count": 22,
   "metadata": {},
   "outputs": [
    {
     "data": {
      "text/plain": [
       "({'Africa': 0, 'Australia': 1, 'North America': 2},\n",
       " {'Spring': 0, 'Summer': 1, 'Autumn': 2, 'Winter': 3},\n",
       " {'High': 0, 'Low': 1, 'Normal': 2},\n",
       " {'Coast Line': 0, 'Coastline': 1, 'Inland': 2},\n",
       " {'Rainy': 0, 'Sunny': 1, 'Cloudy': 2, 'Humid': 3},\n",
       " {'Normal': 0, 'Hot': 1, 'Cold': 2})"
      ]
     },
     "execution_count": 22,
     "metadata": {},
     "output_type": "execute_result"
    }
   ],
   "source": [
    "# Encode features\n",
    "\n",
    "unique_country = {}\n",
    "unique_season = {}\n",
    "unique_windspeed = {}\n",
    "unique_location = {}\n",
    "unique_weather = {}\n",
    "\n",
    "unique_temperature = {}\n",
    "\n",
    "\n",
    "for country, season, windspeed, location, weather in train_x:\n",
    "    if country not in unique_country:\n",
    "        unique_country[country] = len(unique_country)\n",
    "    \n",
    "    if season not in unique_season:\n",
    "        unique_season[season] = len(unique_season)\n",
    "    \n",
    "    if windspeed not in unique_windspeed:\n",
    "        unique_windspeed[windspeed] = len(unique_windspeed)\n",
    "    \n",
    "    if location not in unique_location:\n",
    "        unique_location[location] = len(unique_location)\n",
    "    \n",
    "    if weather not in unique_weather:\n",
    "        unique_weather[weather] = len(unique_weather)    \n",
    "            \n",
    "\n",
    "for temp in train_y:\n",
    "    if temp not in unique_temperature:\n",
    "        unique_temperature[temp] = len(unique_temperature)\n",
    "    \n",
    "    \n",
    "unique_country, unique_season, unique_windspeed, unique_location, unique_weather,  unique_temperature"
   ]
  },
  {
   "cell_type": "code",
   "execution_count": 23,
   "metadata": {},
   "outputs": [],
   "source": [
    "def featureize(input_x, input_y):\n",
    "    # one hot encode for features\n",
    "    \n",
    "    country = [0] * len(unique_country)    \n",
    "    season = [0] * len(unique_season)\n",
    "    windspeed = [0] * len(unique_windspeed)\n",
    "    location = [0] * len(unique_location)\n",
    "    weather = [0] * len(unique_weather)\n",
    "    \n",
    "    c_idx = unique_country[input_x[0]]\n",
    "    s_idx = unique_season[input_x[1]]\n",
    "    w_idx = unique_windspeed[input_x[2]]\n",
    "    l_idx = unique_location[input_x[3]] \n",
    "    weather_idx = unique_weather[input_x[4]] \n",
    "    \n",
    "    country[c_idx] = 1\n",
    "    season[s_idx] = 1\n",
    "    windspeed[w_idx] = 1 \n",
    "    location[l_idx] = 1\n",
    "    weather[weather_idx] = 1\n",
    "    \n",
    "    feature_x = country + season + windspeed + location + weather    \n",
    "    label_y = unique_temperature[input_y]    \n",
    "\n",
    "    \n",
    "    return feature_x, label_y"
   ]
  },
  {
   "cell_type": "code",
   "execution_count": 24,
   "metadata": {},
   "outputs": [],
   "source": [
    "x_train_set = []\n",
    "y_train_set = []\n",
    "\n",
    "for x, y in zip(train_x, train_y):\n",
    "    x, y = featureize(x, y)\n",
    "    x_train_set.append(x)\n",
    "    y_train_set.append(y)\n"
   ]
  },
  {
   "cell_type": "code",
   "execution_count": 25,
   "metadata": {},
   "outputs": [],
   "source": [
    "x_validation_set = []\n",
    "y_validation_set = []\n",
    "\n",
    "for x, y in zip(validate_x, validate_y):\n",
    "    x, y = featureize(x, y)\n",
    "    x_validation_set.append(x)\n",
    "    y_validation_set.append(y)"
   ]
  },
  {
   "cell_type": "code",
   "execution_count": 26,
   "metadata": {},
   "outputs": [
    {
     "data": {
      "text/plain": [
       "Counter({0: 47, 2: 34, 1: 26})"
      ]
     },
     "execution_count": 26,
     "metadata": {},
     "output_type": "execute_result"
    }
   ],
   "source": [
    "category_freq = Counter(y_train_set)\n",
    "category_freq"
   ]
  },
  {
   "cell_type": "code",
   "execution_count": 27,
   "metadata": {},
   "outputs": [],
   "source": [
    "prior = defaultdict(float)\n",
    "\n",
    "for category in category_freq:\n",
    "    prior[category] = category_freq[category] / len(train_x)\n",
    "    "
   ]
  },
  {
   "cell_type": "code",
   "execution_count": 28,
   "metadata": {},
   "outputs": [
    {
     "data": {
      "text/plain": [
       "defaultdict(float,\n",
       "            {0: 0.4392523364485981,\n",
       "             1: 0.24299065420560748,\n",
       "             2: 0.3177570093457944})"
      ]
     },
     "execution_count": 28,
     "metadata": {},
     "output_type": "execute_result"
    }
   ],
   "source": [
    "prior"
   ]
  },
  {
   "cell_type": "code",
   "execution_count": 29,
   "metadata": {},
   "outputs": [
    {
     "data": {
      "text/plain": [
       "defaultdict(<function __main__.<lambda>()>,\n",
       "            {0: [0.18691588785046728,\n",
       "              0.009345794392523364,\n",
       "              0.24299065420560748,\n",
       "              0.11214953271028037,\n",
       "              0.08411214953271028,\n",
       "              0.17757009345794392,\n",
       "              0.06542056074766354,\n",
       "              0.17757009345794392,\n",
       "              0.08411214953271028,\n",
       "              0.17757009345794392,\n",
       "              0.27102803738317754,\n",
       "              0.009345794392523364,\n",
       "              0.1588785046728972,\n",
       "              0.09345794392523364,\n",
       "              0.09345794392523364,\n",
       "              0.14953271028037382,\n",
       "              0.102803738317757],\n",
       "             1: [0.12149532710280374,\n",
       "              0.056074766355140186,\n",
       "              0.06542056074766354,\n",
       "              0.018691588785046728,\n",
       "              0.1588785046728972,\n",
       "              0.04672897196261682,\n",
       "              0.018691588785046728,\n",
       "              0.12149532710280374,\n",
       "              0.028037383177570093,\n",
       "              0.09345794392523364,\n",
       "              0.09345794392523364,\n",
       "              0.018691588785046728,\n",
       "              0.1308411214953271,\n",
       "              0.0,\n",
       "              0.1308411214953271,\n",
       "              0.0,\n",
       "              0.11214953271028037],\n",
       "             2: [0.14018691588785046,\n",
       "              0.018691588785046728,\n",
       "              0.1588785046728972,\n",
       "              0.11214953271028037,\n",
       "              0.04672897196261682,\n",
       "              0.009345794392523364,\n",
       "              0.14953271028037382,\n",
       "              0.04672897196261682,\n",
       "              0.205607476635514,\n",
       "              0.06542056074766354,\n",
       "              0.17757009345794392,\n",
       "              0.009345794392523364,\n",
       "              0.1308411214953271,\n",
       "              0.12149532710280374,\n",
       "              0.037383177570093455,\n",
       "              0.09345794392523364,\n",
       "              0.06542056074766354]})"
      ]
     },
     "execution_count": 29,
     "metadata": {},
     "output_type": "execute_result"
    }
   ],
   "source": [
    "# calculate mean and variance for each feature\n",
    "\n",
    "n_features = len(x_train_set[0])\n",
    "\n",
    "mean = defaultdict(lambda : [0] * n_features)\n",
    "\n",
    "for sample, label in zip(x_train_set, y_train_set):\n",
    "    for idx, feature in enumerate(sample):\n",
    "        mean[label][idx] += feature\n",
    "        \n",
    "for value in mean.values():\n",
    "    for idx in range(len(value)):\n",
    "        value[idx] /= len(x_train_set)\n",
    "\n",
    "mean"
   ]
  },
  {
   "cell_type": "code",
   "execution_count": 30,
   "metadata": {},
   "outputs": [
    {
     "data": {
      "text/plain": [
       "defaultdict(<function __main__.<lambda>()>,\n",
       "            {0: [0.13238718967415838,\n",
       "              0.009209472647082585,\n",
       "              0.15083715428764552,\n",
       "              0.09251920136680916,\n",
       "              0.07307008815200773,\n",
       "              0.12835794335382522,\n",
       "              0.05874079522106567,\n",
       "              0.12835794335382522,\n",
       "              0.07307008815200773,\n",
       "              0.12835794335382522,\n",
       "              0.15638144946748814,\n",
       "              0.009209472647082585,\n",
       "              0.11948152024051406,\n",
       "              0.07982576938115633,\n",
       "              0.07982576938115638,\n",
       "              0.1146343434475361,\n",
       "              0.08630880711942353],\n",
       "             1: [0.0955599109582276,\n",
       "              0.05055006232434291,\n",
       "              0.057900824705745,\n",
       "              0.018077732781624816,\n",
       "              0.11452740842566339,\n",
       "              0.04289237194122983,\n",
       "              0.018077732781624813,\n",
       "              0.09555991095822758,\n",
       "              0.02665620716987077,\n",
       "              0.0781115438396856,\n",
       "              0.07811154383968556,\n",
       "              0.018077732781624816,\n",
       "              0.10076217732765297,\n",
       "              0.0,\n",
       "              0.10076217732765293,\n",
       "              0.0,\n",
       "              0.09005071658709121],\n",
       "             2: [0.10712685187377097,\n",
       "              0.018103854313685323,\n",
       "              0.11641468911703502,\n",
       "              0.09099109174126949,\n",
       "              0.043055631516608,\n",
       "              0.009198860774682996,\n",
       "              0.11191770411324335,\n",
       "              0.043055631516608,\n",
       "              0.134491605600783,\n",
       "              0.05822081347348621,\n",
       "              0.12452705741757643,\n",
       "              0.009198860774682996,\n",
       "              0.10204213239861781,\n",
       "              0.09666354568778401,\n",
       "              0.035032239684647824,\n",
       "              0.07876458214119825,\n",
       "              0.058220813473486205]})"
      ]
     },
     "execution_count": 30,
     "metadata": {},
     "output_type": "execute_result"
    }
   ],
   "source": [
    "# varience\n",
    "\n",
    "varience = defaultdict(lambda : [0] * n_features)\n",
    "\n",
    "for sample, label in zip(x_train_set, y_train_set):\n",
    "    for idx, feature in enumerate(sample):\n",
    "        varience[label][idx] += (feature - mean[label][idx]) ** 2\n",
    "\n",
    "        \n",
    "for value in varience.values():\n",
    "    for idx in range(len(value)):\n",
    "        value[idx] /= len(x_train_set)  \n",
    "\n",
    "varience"
   ]
  },
  {
   "cell_type": "code",
   "execution_count": 31,
   "metadata": {},
   "outputs": [],
   "source": [
    "def gausian_probability(xs, mean, var, smoothing):\n",
    "    probability = []\n",
    "        \n",
    "    for idx, x in enumerate(xs):\n",
    "        m = mean[idx]\n",
    "        v = var[idx] + smoothing\n",
    "        \n",
    "        prob = 1 / math.sqrt(2 * math.pi * v) * math.exp(-(x - m) ** 2 / (2 * v))\n",
    "        \n",
    "        probability.append(math.log(prob))\n",
    "    \n",
    "    return sum(probability)\n",
    "\n",
    "\n",
    "def argmax(values):\n",
    "    max_value = float('-inf')\n",
    "    max_index = 0\n",
    "\n",
    "    for idx, value in enumerate(values):\n",
    "        if value > max_value:\n",
    "            max_index = idx\n",
    "            max_value = value\n",
    "\n",
    "    return max_index"
   ]
  },
  {
   "cell_type": "code",
   "execution_count": 32,
   "metadata": {},
   "outputs": [],
   "source": [
    "def predict_naive_bayes(sample, smoothing):    \n",
    "    gaussians_likelihood = [0] * 3\n",
    "    \n",
    "    for cls in range(3):\n",
    "        m = mean[cls]\n",
    "        var = varience[cls]\n",
    "        \n",
    "        probability = gausian_probability(sample, m, var, smoothing)               \n",
    "        \n",
    "        probability += math.log(prior[cls])\n",
    "        \n",
    "        gaussians_likelihood[cls] = probability        \n",
    "    \n",
    "    return argmax(gaussians_likelihood)\n",
    "        "
   ]
  },
  {
   "cell_type": "code",
   "execution_count": 33,
   "metadata": {},
   "outputs": [],
   "source": [
    "def test(x_test, y_test, smoothing):    \n",
    "    confussion_matrix = [[0] * 3 for _ in range(3)]\n",
    "    net_accuracy = 0\n",
    "\n",
    "    for i in range(len(x_test)):\n",
    "        prediction = predict_naive_bayes(x_test[i], smoothing)\n",
    "\n",
    "        confussion_matrix[prediction][y_test[i]] += 1        \n",
    "\n",
    "        if prediction == y_test[i]:\n",
    "            net_accuracy += 1\n",
    "\n",
    "    return confussion_matrix, net_accuracy / len(x_test)"
   ]
  },
  {
   "cell_type": "code",
   "execution_count": 34,
   "metadata": {},
   "outputs": [],
   "source": [
    "x_test_set = []\n",
    "y_test_set = []\n",
    "\n",
    "for x, y in zip(test_x, test_y):\n",
    "    x, y = featureize(x, y)\n",
    "    x_test_set.append(x)\n",
    "    y_test_set.append(y)\n"
   ]
  },
  {
   "cell_type": "code",
   "execution_count": 35,
   "metadata": {},
   "outputs": [],
   "source": [
    "# test\n",
    "\n",
    "smoothings = [0.001, 0.01, 0.1, 0.5, 1.0, 10, 100]\n",
    "\n",
    "scores = []\n",
    "\n",
    "for smoothing in smoothings:\n",
    "    cm, acc = test(x_test_set, y_test_set, smoothing)\n",
    "    \n",
    "    scores.append((cm, acc))\n"
   ]
  },
  {
   "cell_type": "code",
   "execution_count": 36,
   "metadata": {},
   "outputs": [
    {
     "data": {
      "image/png": "[encoded data removed]",
      "text/plain": [
       "<Figure size 640x480 with 7 Axes>"
      ]
     },
     "metadata": {},
     "output_type": "display_data"
    }
   ],
   "source": [
    "# draw confussion matrix\n",
    "\n",
    "fig, axs = plt.subplots(nrows=1, ncols=len(smoothings))\n",
    "    \n",
    "for i, ax in enumerate(axs.flat):\n",
    "    \n",
    "    ax.set_label(smoothings[i])\n",
    "\n",
    "    ax.imshow(scores[i][0])\n",
    "    "
   ]
  },
  {
   "cell_type": "code",
   "execution_count": 37,
   "metadata": {},
   "outputs": [
    {
     "name": "stdout",
     "output_type": "stream",
     "text": [
      "Smoothing: 0.001 \tAccuracy: 0.7570093457943925\n",
      "Smoothing: 0.01 \tAccuracy: 0.7476635514018691\n",
      "Smoothing: 0.1 \tAccuracy: 0.7476635514018691\n",
      "Smoothing: 0.5 \tAccuracy: 0.6822429906542056\n",
      "Smoothing: 1.0 \tAccuracy: 0.48598130841121495\n",
      "Smoothing: 10 \tAccuracy: 0.4392523364485981\n",
      "Smoothing: 100 \tAccuracy: 0.4392523364485981\n"
     ]
    }
   ],
   "source": [
    "# Accuracy\n",
    "accuracy = []\n",
    "for i in range(len(scores)):\n",
    "    accuracy.append(scores[i][1])\n",
    "    print(f'Smoothing: {smoothings[i]} \\tAccuracy: {scores[i][1]}')"
   ]
  },
  {
   "cell_type": "code",
   "execution_count": 38,
   "metadata": {},
   "outputs": [
    {
     "data": {
      "image/png": "[encoded data removed]",
      "text/plain": [
       "<Figure size 1500x500 with 1 Axes>"
      ]
     },
     "metadata": {},
     "output_type": "display_data"
    }
   ],
   "source": [
    "plt.rcParams[\"figure.figsize\"] = (15,5)\n",
    "\n",
    "plt.plot(list(map(math.log, smoothings)), accuracy, 'bo')\n",
    "plt.xlabel('Laplace smoothing')\n",
    "plt.ylabel('Accuracy')\n",
    "plt.xticks(list(map(math.log, smoothings)), labels=smoothings, rotation=90)\n",
    "\n",
    "plt.rcParams[\"figure.figsize\"] = plt.rcParamsDefault[\"figure.figsize\"]"
   ]
  }
 ],
 "metadata": {
  "kernelspec": {
   "display_name": "Python 3",
   "language": "python",
   "name": "python3"
  },
  "language_info": {
   "codemirror_mode": {
    "name": "ipython",
    "version": 3
   },
   "file_extension": ".py",
   "mimetype": "text/x-python",
   "name": "python",
   "nbconvert_exporter": "python",
   "pygments_lexer": "ipython3",
   "version": "3.12.3"
  }
 },
 "nbformat": 4,
 "nbformat_minor": 2
}
